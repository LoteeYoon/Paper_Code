{
  "nbformat": 4,
  "nbformat_minor": 0,
  "metadata": {
    "colab": {
      "name": "Untitled1.ipynb",
      "private_outputs": true,
      "provenance": [],
      "mount_file_id": "1wUs9NqNolJH_P4OMVjwXoBqfGRijHf4z",
      "authorship_tag": "ABX9TyNXpbxqeewLZsHcvKx6ec92",
      "include_colab_link": true
    },
    "kernelspec": {
      "name": "python3",
      "display_name": "Python 3"
    }
  },
  "cells": [
    {
      "cell_type": "markdown",
      "metadata": {
        "id": "view-in-github",
        "colab_type": "text"
      },
      "source": [
        "<a href=\"https://colab.research.google.com/github/LoteeYoon/practice/blob/master/Untitled1.ipynb\" target=\"_parent\"><img src=\"https://colab.research.google.com/assets/colab-badge.svg\" alt=\"Open In Colab\"/></a>"
      ]
    },
    {
      "cell_type": "code",
      "metadata": {
        "id": "jzUI9Kk8_vwd"
      },
      "source": [
        "import torch\r\n",
        "import sys\r\n",
        "import os"
      ],
      "execution_count": null,
      "outputs": []
    },
    {
      "cell_type": "code",
      "metadata": {
        "id": "dV5nXqdPAqae"
      },
      "source": [
        "import torch.nn as nn\r\n",
        "import torch.nn.functional as F"
      ],
      "execution_count": null,
      "outputs": []
    },
    {
      "cell_type": "code",
      "metadata": {
        "id": "A5CMeVFFAvOl"
      },
      "source": [
        "import torch.optim as optim"
      ],
      "execution_count": null,
      "outputs": []
    },
    {
      "cell_type": "code",
      "metadata": {
        "id": "koK5o8E0A3T9"
      },
      "source": [
        "import gym"
      ],
      "execution_count": null,
      "outputs": []
    },
    {
      "cell_type": "code",
      "metadata": {
        "id": "TxWFswmrA4JN"
      },
      "source": [
        "import numpy as np"
      ],
      "execution_count": null,
      "outputs": []
    },
    {
      "cell_type": "code",
      "metadata": {
        "id": "9UWp5EnBA5WO"
      },
      "source": [
        "batch_size = 32\r\n",
        "gamma = 0.99"
      ],
      "execution_count": null,
      "outputs": []
    },
    {
      "cell_type": "code",
      "metadata": {
        "id": "6gdDC9qzA9Ah"
      },
      "source": [
        "replay = []\r\n",
        "env = gym.make('CartPole-v0') ## CartPole envirionment call\r\n",
        "\r\n",
        "for _ in range(100):    ## repeat the epdisode 100 times\r\n",
        "    o = env.reset() ## returns the inital observation\r\n",
        "    d = False   ## done\r\n",
        "    while (not d): ## if an episode was done, it will stop\r\n",
        "        old_o = o   ## after step, update observation\r\n",
        "        a = env.action_space.sample()   ## select random action\r\n",
        "        o, r, d, i = env.step(a)    ## take a random action and return feedback\r\n",
        "        replay.append((old_o, a, r, d, o))  ## experience store\r\n",
        "        \r\n",
        "env.close()\r\n"
      ],
      "execution_count": null,
      "outputs": []
    },
    {
      "cell_type": "code",
      "metadata": {
        "id": "B3IjlvaoGXyp"
      },
      "source": [
        "len(replay) ## total N transition stored"
      ],
      "execution_count": null,
      "outputs": []
    },
    {
      "cell_type": "code",
      "metadata": {
        "id": "Lfcve_DwJXjf"
      },
      "source": [
        "sample_index = np.random.random_integers(low=0, high=(len(replay)-1), size = batch_size)"
      ],
      "execution_count": null,
      "outputs": []
    },
    {
      "cell_type": "code",
      "metadata": {
        "id": "25bI1O3HPHGC"
      },
      "source": [
        "train_batch = [replay[idx] for idx in sample_index]"
      ],
      "execution_count": null,
      "outputs": []
    },
    {
      "cell_type": "code",
      "metadata": {
        "id": "Ocfih1yyQPo5"
      },
      "source": [
        "len(train_batch)"
      ],
      "execution_count": null,
      "outputs": []
    },
    {
      "cell_type": "code",
      "metadata": {
        "id": "UfCMZVWYmxJS"
      },
      "source": [
        "env.observation_space.shape[0]"
      ],
      "execution_count": null,
      "outputs": []
    },
    {
      "cell_type": "code",
      "metadata": {
        "id": "d9kKktH9nDfl"
      },
      "source": [
        "env.action_space.n"
      ],
      "execution_count": null,
      "outputs": []
    },
    {
      "cell_type": "code",
      "metadata": {
        "id": "vsW0g0fzQS9A"
      },
      "source": [
        "class dqn(nn.Module):\r\n",
        "    def __init__(self):\r\n",
        "        super(dqn, self).__init__()\r\n",
        "\r\n",
        "        self.ob_dim = 4\r\n",
        "        self.action_dim = 2\r\n",
        "        self.fc1 = nn.Linear(self.ob_dim, 128)\r\n",
        "        self.fc2 = nn.Linear(128, 128)\r\n",
        "        self.fc3 = nn.Linear(128, self.action_dim)\r\n",
        "\r\n",
        "    def forward(self, x):\r\n",
        "        x = F.relu(self.fc1(x))\r\n",
        "        x = F.relu(self.fc2(x))\r\n",
        "        x = self.fc3(x)\r\n",
        "\r\n",
        "        return x"
      ],
      "execution_count": null,
      "outputs": []
    },
    {
      "cell_type": "code",
      "metadata": {
        "id": "Cztqdc7JtbwQ"
      },
      "source": [
        "dqn_agent = dqn()"
      ],
      "execution_count": null,
      "outputs": []
    },
    {
      "cell_type": "code",
      "metadata": {
        "id": "rgzo2HintsDv"
      },
      "source": [
        "dqn_target = dqn()"
      ],
      "execution_count": null,
      "outputs": []
    },
    {
      "cell_type": "code",
      "metadata": {
        "id": "nxQ0vKP1tuI4"
      },
      "source": [
        "type(train_batch)"
      ],
      "execution_count": null,
      "outputs": []
    },
    {
      "cell_type": "code",
      "metadata": {
        "id": "AarH4MXNwWvY"
      },
      "source": [
        "s = torch.FloatTensor(np.array([i[0] for i in train_batch]))\r\n",
        "a = torch.LongTensor(np.array([i[1] for i in train_batch])).view([-1, 1])\r\n",
        "r = torch.FloatTensor(np.array([i[2] for i in train_batch])).view([-1, 1])\r\n",
        "d = torch.BoolTensor(np.array([i[3] for i in train_batch])).view([-1, 1])\r\n",
        "s_2 = torch.FloatTensor(np.array([i[4] for i in train_batch]))"
      ],
      "execution_count": null,
      "outputs": []
    },
    {
      "cell_type": "code",
      "metadata": {
        "id": "lm2CoUbMb6z6"
      },
      "source": [
        "a.shape"
      ],
      "execution_count": null,
      "outputs": []
    },
    {
      "cell_type": "code",
      "metadata": {
        "id": "tQjMqLTkVOef"
      },
      "source": [
        "# loss = Q(s, a) - y\r\n",
        "# y = r + gamma * Q_t(s', a)"
      ],
      "execution_count": null,
      "outputs": []
    },
    {
      "cell_type": "code",
      "metadata": {
        "id": "TRGbW4y_bdnp"
      },
      "source": [
        "Q = torch.gather(dqn_agent.forward(s), 1, a)"
      ],
      "execution_count": null,
      "outputs": []
    },
    {
      "cell_type": "code",
      "metadata": {
        "id": "Gbd7gWMXg1Ue"
      },
      "source": [
        "Q"
      ],
      "execution_count": null,
      "outputs": []
    },
    {
      "cell_type": "code",
      "metadata": {
        "id": "Kvv1VpPGeDqX"
      },
      "source": [
        "with torch.no_grad():\r\n",
        "    y = r + gamma * torch.max(dqn_target.forward(s_2), dim=1, keepdim=True)[0]"
      ],
      "execution_count": null,
      "outputs": []
    },
    {
      "cell_type": "code",
      "metadata": {
        "id": "SwxNWGcUfUFO"
      },
      "source": [
        "y"
      ],
      "execution_count": null,
      "outputs": []
    },
    {
      "cell_type": "code",
      "metadata": {
        "id": "7aeJS-V5gXe1"
      },
      "source": [
        "criterion = F.mse_loss"
      ],
      "execution_count": null,
      "outputs": []
    },
    {
      "cell_type": "code",
      "metadata": {
        "id": "BOhZvdS0hsjW"
      },
      "source": [
        "loss = criterion(Q, y)"
      ],
      "execution_count": null,
      "outputs": []
    },
    {
      "cell_type": "code",
      "metadata": {
        "id": "bQirC550hu-k"
      },
      "source": [
        "loss"
      ],
      "execution_count": null,
      "outputs": []
    },
    {
      "cell_type": "code",
      "metadata": {
        "id": "HUL1cCPFhvUM"
      },
      "source": [
        "optimizer = optim.SGD(dqn_agent.parameters(), lr = 1e-4)"
      ],
      "execution_count": null,
      "outputs": []
    },
    {
      "cell_type": "code",
      "metadata": {
        "id": "DEuGVqZxh218"
      },
      "source": [
        "optimizer.zero_grad() # initialize the gradient to zero\r\n",
        "loss.backward() # computation backward\r\n",
        "optimizer.step()    # update parameters"
      ],
      "execution_count": null,
      "outputs": []
    },
    {
      "cell_type": "code",
      "metadata": {
        "id": "ILoPjp5CikcD"
      },
      "source": [
        "def target_update(dqn_main, dqn_target):\r\n",
        "    dqn_target.load_state_dict(dqn_main.state_dict())"
      ],
      "execution_count": null,
      "outputs": []
    },
    {
      "cell_type": "code",
      "metadata": {
        "id": "ZCVJ4Ameu_J_"
      },
      "source": [
        "iteration = 1000\r\n",
        "\r\n",
        "for iter in range(iteration):\r\n",
        "    sample_index = np.random.random_integers(low=0, high=(len(replay)-1), size=batch_size)\r\n",
        "    train_batch = [replay[idx] for idx in sample_index]\r\n",
        "\r\n",
        "    s = torch.FloatTensor(np.array([i[0] for i in train_batch]))\r\n",
        "    a = torch.LongTensor(np.array([i[1] for i in train_batch])).view([-1, 1])\r\n",
        "    r = torch.FloatTensor(np.array([i[2] for i in train_batch])).view([-1, 1])\r\n",
        "    d = torch.BoolTensor(np.array([i[3] for i in train_batch])).view([-1, 1])\r\n",
        "    s_2 = torch.FloatTensor(np.array([i[4] for i in train_batch]))\r\n",
        "\r\n",
        "    Q = torch.gather(dqn_agent.forward(s), 1, a)\r\n",
        "\r\n",
        "    with torch.no_grad():\r\n",
        "        y = r + gamma * torch.max(dqn_target.forward(s_2), dim=1, keepdim=True)[0]\r\n",
        "\r\n",
        "    loss = F.mse_loss(Q, y)\r\n",
        "    optimizer = optim.SGD(dqn_agent.parameters(), lr = 1e-4)\r\n",
        "    optimizer.zero_grad()\r\n",
        "    loss.backward()\r\n",
        "    optimizer.step()\r\n",
        "\r\n",
        "    if iter % 100 == 0:\r\n",
        "        target_update(dqn_agent, dqn_target)"
      ],
      "execution_count": null,
      "outputs": []
    },
    {
      "cell_type": "code",
      "metadata": {
        "id": "S9Xy8f0ML6xo"
      },
      "source": [
        ""
      ],
      "execution_count": null,
      "outputs": []
    }
  ]
}